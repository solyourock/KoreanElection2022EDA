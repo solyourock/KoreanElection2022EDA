{
 "cells": [
  {
   "cell_type": "code",
   "execution_count": 1,
   "metadata": {},
   "outputs": [],
   "source": [
    "import snscrape.modules.twitter as sntwitter\n",
    "import pandas as pd\n"
   ]
  },
  {
   "cell_type": "markdown",
   "metadata": {},
   "source": [
    "## 1번 & 2번"
   ]
  },
  {
   "cell_type": "code",
   "execution_count": null,
   "metadata": {},
   "outputs": [],
   "source": [
    "# Creating list to append tweet data to\n",
    "tweets_list1 = []\n",
    "tweets_list2 = []\n",
    "\n",
    "# Using TwitterSearchScraper to scrape data and append tweets to list\n",
    "for i,tweet in enumerate(sntwitter.TwitterSearchScraper('1번 since:2022-02-09 until:2022-03-10').get_items()):\n",
    "    if i>100000:\n",
    "        break\n",
    "    tweets_list1.append([tweet.date, tweet.id, tweet.content, tweet.user.username, tweet.likeCount, tweet.user.displayname, tweet.lang])\n",
    "    \n",
    "# Creating a dataframe from the tweets list above\n",
    "tweets_df1 = pd.DataFrame(tweets_list1, columns=['Datetime', 'Tweet Id', 'Text', 'Username', 'Like Count', 'Display Name', 'Language'])\n",
    "\n",
    "tweets_df1.to_csv('1번_twits.csv')\n",
    "\n",
    "print(tweets_df1)\n",
    "\n",
    "# Using TwitterSearchScraper to scrape data and append tweets to list\n",
    "for i,tweet in enumerate(sntwitter.TwitterSearchScraper('2번 since:2022-02-09 until:2022-03-10').get_items()):\n",
    "    if i>100000:\n",
    "        break\n",
    "    tweets_list2.append([tweet.date, tweet.id, tweet.content, tweet.user.username, tweet.likeCount, tweet.user.displayname, tweet.lang])\n",
    "    \n",
    "# Creating a dataframe from the tweets list above\n",
    "tweets_df2 = pd.DataFrame(tweets_list2, columns=['Datetime', 'Tweet Id', 'Text', 'Username', 'Like Count', 'Display Name', 'Language'])\n",
    "\n",
    "tweets_df2.to_csv('2번_twits.csv')\n",
    "\n",
    "print(tweets_df2)"
   ]
  },
  {
   "cell_type": "markdown",
   "metadata": {},
   "source": [
    "## 1번남"
   ]
  },
  {
   "cell_type": "code",
   "execution_count": null,
   "metadata": {},
   "outputs": [],
   "source": [
    "# Creating list to append tweet data to\n",
    "tweets_list1nam = []\n",
    "tweets_list2nam = []\n",
    "\n",
    "# Using TwitterSearchScraper to scrape data and append tweets to list\n",
    "for i,tweet in enumerate(sntwitter.TwitterSearchScraper('1번남 since:2022-02-09 until:2022-03-10').get_items()):\n",
    "    if i>100000:\n",
    "        break\n",
    "    tweets_list1nam.append([tweet.date, tweet.id, tweet.content, tweet.user.username, tweet.likeCount, tweet.user.displayname, tweet.lang])\n",
    "    \n",
    "# Creating a dataframe from the tweets list above\n",
    "tweets_df1nam = pd.DataFrame(tweets_list1nam, columns=['Datetime', 'Tweet Id', 'Text', 'Username', 'Like Count', 'Display Name', 'Language'])\n",
    "\n",
    "tweets_df1nam.to_csv('1번남_twits.csv')\n",
    "\n",
    "print(tweets_df1nam)\n"
   ]
  },
  {
   "cell_type": "markdown",
   "metadata": {},
   "source": [
    "## 2번남"
   ]
  },
  {
   "cell_type": "code",
   "execution_count": 2,
   "metadata": {},
   "outputs": [
    {
     "ename": "NameError",
     "evalue": "name 'tweets_list2nam' is not defined",
     "output_type": "error",
     "traceback": [
      "\u001b[1;31m---------------------------------------------------------------------------\u001b[0m",
      "\u001b[1;31mNameError\u001b[0m                                 Traceback (most recent call last)",
      "\u001b[1;32md:\\PY4E\\DS\\snsscrape\\kimmaa_nlp\\이번남_crawling.ipynb Cell 5'\u001b[0m in \u001b[0;36m<cell line: 2>\u001b[1;34m()\u001b[0m\n\u001b[0;32m      <a href='vscode-notebook-cell:/d%3A/PY4E/DS/snsscrape/kimmaa_nlp/%EC%9D%B4%EB%B2%88%EB%82%A8_crawling.ipynb#ch0000002?line=2'>3</a>\u001b[0m     \u001b[39mif\u001b[39;00m i\u001b[39m>\u001b[39m\u001b[39m100000\u001b[39m:\n\u001b[0;32m      <a href='vscode-notebook-cell:/d%3A/PY4E/DS/snsscrape/kimmaa_nlp/%EC%9D%B4%EB%B2%88%EB%82%A8_crawling.ipynb#ch0000002?line=3'>4</a>\u001b[0m         \u001b[39mbreak\u001b[39;00m\n\u001b[1;32m----> <a href='vscode-notebook-cell:/d%3A/PY4E/DS/snsscrape/kimmaa_nlp/%EC%9D%B4%EB%B2%88%EB%82%A8_crawling.ipynb#ch0000002?line=4'>5</a>\u001b[0m     tweets_list2nam\u001b[39m.\u001b[39mappend([tweet\u001b[39m.\u001b[39mdate, tweet\u001b[39m.\u001b[39mid, tweet\u001b[39m.\u001b[39mcontent, tweet\u001b[39m.\u001b[39muser\u001b[39m.\u001b[39musername, tweet\u001b[39m.\u001b[39mlikeCount, tweet\u001b[39m.\u001b[39muser\u001b[39m.\u001b[39mdisplayname, tweet\u001b[39m.\u001b[39mlang])\n\u001b[0;32m      <a href='vscode-notebook-cell:/d%3A/PY4E/DS/snsscrape/kimmaa_nlp/%EC%9D%B4%EB%B2%88%EB%82%A8_crawling.ipynb#ch0000002?line=6'>7</a>\u001b[0m \u001b[39m# Creating a dataframe from the tweets list above\u001b[39;00m\n\u001b[0;32m      <a href='vscode-notebook-cell:/d%3A/PY4E/DS/snsscrape/kimmaa_nlp/%EC%9D%B4%EB%B2%88%EB%82%A8_crawling.ipynb#ch0000002?line=7'>8</a>\u001b[0m tweets_df2nam \u001b[39m=\u001b[39m pd\u001b[39m.\u001b[39mDataFrame(tweets_list2nam, columns\u001b[39m=\u001b[39m[\u001b[39m'\u001b[39m\u001b[39mDatetime\u001b[39m\u001b[39m'\u001b[39m, \u001b[39m'\u001b[39m\u001b[39mTweet Id\u001b[39m\u001b[39m'\u001b[39m, \u001b[39m'\u001b[39m\u001b[39mText\u001b[39m\u001b[39m'\u001b[39m, \u001b[39m'\u001b[39m\u001b[39mUsername\u001b[39m\u001b[39m'\u001b[39m, \u001b[39m'\u001b[39m\u001b[39mLike Count\u001b[39m\u001b[39m'\u001b[39m, \u001b[39m'\u001b[39m\u001b[39mDisplay Name\u001b[39m\u001b[39m'\u001b[39m, \u001b[39m'\u001b[39m\u001b[39mLanguage\u001b[39m\u001b[39m'\u001b[39m])\n",
      "\u001b[1;31mNameError\u001b[0m: name 'tweets_list2nam' is not defined"
     ]
    }
   ],
   "source": [
    "\n",
    "# Using TwitterSearchScraper to scrape data and append tweets to list\n",
    "for i,tweet in enumerate(sntwitter.TwitterSearchScraper('2번남 since:2022-02-09 until:2022-03-10').get_items()):\n",
    "    if i>100000:\n",
    "        break\n",
    "    tweets_list2nam.append([tweet.date, tweet.id, tweet.content, tweet.user.username, tweet.likeCount, tweet.user.displayname, tweet.lang])\n",
    "    \n",
    "# Creating a dataframe from the tweets list above\n",
    "tweets_df2nam = pd.DataFrame(tweets_list2nam, columns=['Datetime', 'Tweet Id', 'Text', 'Username', 'Like Count', 'Display Name', 'Language'])\n",
    "\n",
    "tweets_df2nam.to_csv('2번남_twits.csv')\n",
    "\n",
    "print(tweets_df2nam)"
   ]
  }
 ],
 "metadata": {
  "interpreter": {
   "hash": "16907039eaa1724ac055df951e3b1db718345d49b8bbc5f930736db6cccc5c15"
  },
  "kernelspec": {
   "display_name": "Python 3.8.13 ('twitterscrape')",
   "language": "python",
   "name": "python3"
  },
  "language_info": {
   "codemirror_mode": {
    "name": "ipython",
    "version": 3
   },
   "file_extension": ".py",
   "mimetype": "text/x-python",
   "name": "python",
   "nbconvert_exporter": "python",
   "pygments_lexer": "ipython3",
   "version": "3.8.13"
  },
  "orig_nbformat": 4
 },
 "nbformat": 4,
 "nbformat_minor": 2
}
