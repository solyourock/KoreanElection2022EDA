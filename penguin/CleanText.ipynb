{
 "cells": [
  {
   "cell_type": "code",
   "execution_count": 3,
   "metadata": {},
   "outputs": [],
   "source": [
    "from konlpy.tag import Mecab\n",
    "import pandas as pd"
   ]
  },
  {
   "cell_type": "code",
   "execution_count": 10,
   "metadata": {},
   "outputs": [],
   "source": [
    "# Preprocessing code with Mecab\n",
    "#dicpath=\"/usr/local/lib/mecab/dic/mecab-ko-dic\"\n",
    "mecab = Mecab(r\"C:/mecab/mecab-ko-dic\") # Mecab User Dic Path\n",
    "\n",
    "def preprocessing_mecab(readData):\n",
    "    \n",
    "    #### Clean text\n",
    "    sentence = CleanText(readData)\n",
    "    \n",
    "    #### Tokenize\n",
    "    morphs = mecab.pos(sentence)\n",
    "    \n",
    "    JOSA = [\"JKS\", \"JKC\", \"JKG\", \"JKO\", \"JKB\", \"JKV\", \"JKQ\", \"JX\", \"JC\"] # 조사\n",
    "    SIGN = [\"SF\", \"SE\", \"SSO\", \"SSC\", \"SC\", \"SY\"] # 문장 부호\n",
    "    TERMINATION = [\"EP\", \"EF\", \"EC\", \"ETN\", \"ETM\"] # 어미\n",
    "    SUPPORT_VERB = [\"VX\"] # 보조 용언\n",
    "    NUMBER = [\"SN\"]\n",
    "    \n",
    "    # Remove JOSA, EOMI, etc\n",
    "    morphs[:] = (morph for morph in morphs if morph[1] not in JOSA+SIGN+TERMINATION+SUPPORT_VERB)\n",
    "        \n",
    "    # Remove length-1 words  \n",
    "    morphs[:] = (morph for morph in morphs if not (len(morph[0]) == 1))\n",
    "    \n",
    "    # Remove Numbers\n",
    "    morphs[:] = (morph for morph in morphs if morph[1] not in NUMBER)\n",
    "   \n",
    "    # Result pop-up\n",
    "    result = []\n",
    "    for morph in morphs:\n",
    "        result.append(morph[0])\n",
    "        \n",
    "    return result"
   ]
  },
  {
   "cell_type": "code",
   "execution_count": 4,
   "metadata": {},
   "outputs": [],
   "source": [
    "import re\n",
    "\n",
    "# Basic Cleaning Text Function\n",
    "def CleanText(readData, Num=False, Eng=False):\n",
    "\n",
    "    # Remove Retweets RT @user_screenname \n",
    "    text = re.sub('RT @[\\w_]+: ', '', readData)\n",
    "    text = re.sub('알티', '', text)\n",
    "\n",
    "    # Remove Mentions\n",
    "    text = re.sub('@[\\w_]+', '', text)\n",
    "\n",
    "    # Remove or Replace URL \n",
    "    text = re.sub(r\"http[s]?://(?:[a-zA-Z]|[0-9]|[$-_@.&+]|[!*\\(\\),]|(?:%[0-9a-fA-F][0-9a-fA-F]))+\", ' ', text) # http로 시작되는 url\n",
    "    text = re.sub(r\"[-a-zA-Z0-9@:%._\\+~#=]{1,256}\\.[a-zA-Z0-9()]{2,6}\\b([-a-zA-Z0-9()@:%_\\+.~#?&//=]*)\", ' ', text) # http로 시작되지 않는 url\n",
    "    \n",
    "    # Remove Hashtag\n",
    "    #text = re.sub('[#]+[0-9a-zA-Z_]+', ' ', text)\n",
    "\n",
    "    # Remove Garbage Words (ex. &lt, &gt, etc)\n",
    "    text = re.sub('[&]+[a-z]+', ' ', text)\n",
    "\n",
    "    # Remove Special Characters\n",
    "    text = re.sub('[^#0-9a-zA-Zㄱ-ㅎ가-힣]', ' ', text)\n",
    "    \n",
    "    # Remove newline\n",
    "    text = text.replace('\\n',' ')\n",
    "    \n",
    "    if Num is True:\n",
    "        # Remove Numbers\n",
    "        text = re.sub(r'\\d+',' ',text)\n",
    "    \n",
    "    if Eng is True:\n",
    "        # Remove English \n",
    "        text = re.sub('[a-zA-Z]' , ' ', text)\n",
    "\n",
    "    # Remove multi spacing & Reform sentence\n",
    "    text = ' '.join(text.split())\n",
    "       \n",
    "    return text"
   ]
  },
  {
   "cell_type": "code",
   "execution_count": 32,
   "metadata": {},
   "outputs": [],
   "source": [
    "df1 = pd.read_csv('D:/Code/Presidential_Election_Analysis/Crawling/ㅇㅈㅁ_2022-02-09~2022-02-16.csv',encoding='utf-8')\n",
    "df2 = pd.read_csv('D:/Code/Presidential_Election_Analysis/Crawling/ㅇㅈㅁ_2022-02-16~2022-02-23.csv',encoding='utf-8')\n",
    "df3 = pd.read_csv('D:/Code/Presidential_Election_Analysis/Crawling/ㅇㅈㅁ_2022-02-23~2022-03-02.csv',encoding='utf-8')\n",
    "df4 = pd.read_csv('D:/Code/Presidential_Election_Analysis/Crawling/ㅇㅈㅁ_2022-03-02~2022-03-09.csv',encoding='utf-8')"
   ]
  },
  {
   "cell_type": "code",
   "execution_count": 33,
   "metadata": {},
   "outputs": [],
   "source": [
    "dfs = [df1, df2, df3, df4]"
   ]
  },
  {
   "cell_type": "code",
   "execution_count": 34,
   "metadata": {},
   "outputs": [],
   "source": [
    "for i in dfs:\n",
    "    i['Text'] = i['Text'].apply(lambda x : CleanText(x))\n"
   ]
  },
  {
   "cell_type": "code",
   "execution_count": 35,
   "metadata": {},
   "outputs": [],
   "source": [
    "since_save = ['2022-02-09', '2022-02-16', '2022-02-23', '2022-03-02']\n",
    "until_save = ['2022-02-16', '2022-02-23', '2022-03-02', '2022-03-09']"
   ]
  },
  {
   "cell_type": "code",
   "execution_count": 36,
   "metadata": {},
   "outputs": [],
   "source": [
    "for s in range(len(dfs)):\n",
    "    #tweets_df2_[s] = pd.DataFrame(tweets_list[s], columns=['Datetime', 'Tweet Id', 'Text', 'Username'])\n",
    "    dfs[s].to_csv('./ㅇㅈㅁ_'+since_save[s]+'~'+until_save[s]+'_cleaned.csv', encoding='utf-8-sig',sep=',', index=False)\n",
    "    "
   ]
  },
  {
   "cell_type": "code",
   "execution_count": 8,
   "metadata": {},
   "outputs": [
    {
     "data": {
      "text/html": [
       "<div>\n",
       "<style scoped>\n",
       "    .dataframe tbody tr th:only-of-type {\n",
       "        vertical-align: middle;\n",
       "    }\n",
       "\n",
       "    .dataframe tbody tr th {\n",
       "        vertical-align: top;\n",
       "    }\n",
       "\n",
       "    .dataframe thead th {\n",
       "        text-align: right;\n",
       "    }\n",
       "</style>\n",
       "<table border=\"1\" class=\"dataframe\">\n",
       "  <thead>\n",
       "    <tr style=\"text-align: right;\">\n",
       "      <th></th>\n",
       "      <th>Datetime</th>\n",
       "      <th>Tweet Id</th>\n",
       "      <th>Text</th>\n",
       "      <th>Username</th>\n",
       "    </tr>\n",
       "  </thead>\n",
       "  <tbody>\n",
       "    <tr>\n",
       "      <th>0</th>\n",
       "      <td>2022-02-09</td>\n",
       "      <td>1491562480681852938</td>\n",
       "      <td>윤석열은 이렇게 말해라 적폐청산이라기 보다는 죄가 있으면 법대로 처벌한다</td>\n",
       "      <td>Ksm1005Sangmook</td>\n",
       "    </tr>\n",
       "    <tr>\n",
       "      <th>1</th>\n",
       "      <td>2022-02-09</td>\n",
       "      <td>1491562459194265602</td>\n",
       "      <td>대전MBC 충청권 윤석열41 7 이재명31 4 안철수8 4 10 3 p 앞서</td>\n",
       "      <td>_polinews</td>\n",
       "    </tr>\n",
       "    <tr>\n",
       "      <th>2</th>\n",
       "      <td>2022-02-09</td>\n",
       "      <td>1491562445906669570</td>\n",
       "      <td>으흐흐 나 이런 댕댕이야</td>\n",
       "      <td>snanjing</td>\n",
       "    </tr>\n",
       "    <tr>\n",
       "      <th>3</th>\n",
       "      <td>2022-02-09</td>\n",
       "      <td>1491562420459827202</td>\n",
       "      <td>여보세요 이재명 아니면 왜 윤석열 일거라 생각하죠 둘 다 싫다고욧 나 참</td>\n",
       "      <td>tzsaxo</td>\n",
       "    </tr>\n",
       "    <tr>\n",
       "      <th>4</th>\n",
       "      <td>2022-02-09</td>\n",
       "      <td>1491562299227738115</td>\n",
       "      <td>언론이 편파적이어도 어쩜 이렇게 편파적일수 있냐고 윤석열이 대통령되면 어떤 세상이 ...</td>\n",
       "      <td>pearl_ssc</td>\n",
       "    </tr>\n",
       "  </tbody>\n",
       "</table>\n",
       "</div>"
      ],
      "text/plain": [
       "     Datetime             Tweet Id  \\\n",
       "0  2022-02-09  1491562480681852938   \n",
       "1  2022-02-09  1491562459194265602   \n",
       "2  2022-02-09  1491562445906669570   \n",
       "3  2022-02-09  1491562420459827202   \n",
       "4  2022-02-09  1491562299227738115   \n",
       "\n",
       "                                                Text         Username  \n",
       "0           윤석열은 이렇게 말해라 적폐청산이라기 보다는 죄가 있으면 법대로 처벌한다  Ksm1005Sangmook  \n",
       "1         대전MBC 충청권 윤석열41 7 이재명31 4 안철수8 4 10 3 p 앞서        _polinews  \n",
       "2                                      으흐흐 나 이런 댕댕이야         snanjing  \n",
       "3           여보세요 이재명 아니면 왜 윤석열 일거라 생각하죠 둘 다 싫다고욧 나 참           tzsaxo  \n",
       "4  언론이 편파적이어도 어쩜 이렇게 편파적일수 있냐고 윤석열이 대통령되면 어떤 세상이 ...        pearl_ssc  "
      ]
     },
     "execution_count": 8,
     "metadata": {},
     "output_type": "execute_result"
    }
   ],
   "source": [
    "df1.head(5)"
   ]
  }
 ],
 "metadata": {
  "interpreter": {
   "hash": "432a62ef368c73528fa480acb12dd4437b577421a50b9d1d943c4544bba5e728"
  },
  "kernelspec": {
   "display_name": "Python 3.7.11 ('torch1')",
   "language": "python",
   "name": "python3"
  },
  "language_info": {
   "codemirror_mode": {
    "name": "ipython",
    "version": 3
   },
   "file_extension": ".py",
   "mimetype": "text/x-python",
   "name": "python",
   "nbconvert_exporter": "python",
   "pygments_lexer": "ipython3",
   "version": "3.7.11"
  },
  "orig_nbformat": 4
 },
 "nbformat": 4,
 "nbformat_minor": 2
}
