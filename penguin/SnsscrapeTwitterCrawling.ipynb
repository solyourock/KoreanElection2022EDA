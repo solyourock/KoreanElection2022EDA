{
 "cells": [
  {
   "cell_type": "code",
   "execution_count": 1,
   "metadata": {},
   "outputs": [],
   "source": [
    "#pip install snscrape\n",
    "# 파이썬 3.8.12"
   ]
  },
  {
   "cell_type": "markdown",
   "metadata": {},
   "source": [
    "from: 아이디\n",
    "키워드 since: 2022-02-08 until:2022-03-08"
   ]
  },
  {
   "cell_type": "code",
   "execution_count": 1,
   "metadata": {},
   "outputs": [],
   "source": [
    "# 주간 별\n",
    "since_save = ['2022-02-09', '2022-02-16', '2022-02-23', '2022-03-02']\n",
    "until_save = ['2022-02-16', '2022-02-23', '2022-03-02', '2022-03-09']"
   ]
  },
  {
   "cell_type": "code",
   "execution_count": 1,
   "metadata": {},
   "outputs": [],
   "source": [
    "# 날짜별\n",
    "since1 = ['2022-02-09','2022-02-10','2022-02-11','2022-02-12','2022-02-13','2022-02-14','2022-02-15']\n",
    "until1 = ['2022-02-10','2022-02-11','2022-02-12','2022-02-13','2022-02-14','2022-02-15','2022-02-16']"
   ]
  },
  {
   "cell_type": "code",
   "execution_count": 2,
   "metadata": {},
   "outputs": [],
   "source": [
    "# importing libraries and packages\n",
    "import snscrape.modules.twitter as sntwitter\n",
    "import pandas as pd"
   ]
  },
  {
   "cell_type": "markdown",
   "metadata": {},
   "source": [
    "### 날짜별로 n개씩 하고 크롤링할 경우"
   ]
  },
  {
   "cell_type": "code",
   "execution_count": 6,
   "metadata": {},
   "outputs": [],
   "source": [
    "tweets_list1 = []\n",
    "tweets_list2 = []\n",
    "tweets_list3 = []\n",
    "tweets_list4 = []\n",
    "tweets_list = [tweets_list1, tweets_list2, tweets_list3, tweets_list4]\n",
    "\n",
    "for s in range(len(since1)):\n",
    "    \n",
    "    # Creating list to append tweet data \n",
    "    #tweets_list1 = []\n",
    "    # Using TwitterSearchScraper to scrape data and append tweets to list\n",
    "    for day in range(len(since1)):\n",
    "        \n",
    "        for i,tweet in enumerate(sntwitter.TwitterSearchScraper('윤석열 since:'+since1[s][day]+' until:'+until1[s][day]).get_items()): #declare a username \n",
    "            \n",
    "            if i>1000: #number of tweets you want to scrape\n",
    "                break\n",
    "            #tweets_list[s].append([tweet.date, tweet.content, tweet.user.username])\n",
    "            tweets_list[s].append([tweet.date, tweet.id, tweet.content, tweet.user.username]) #declare the attributes to be returned\n",
    "    \n",
    "    # Creating a dataframe from the tweets list above \n",
    "#tweets_df2_1 = pd.DataFrame(tweets_list1, columns=['Datetime', 'Tweet Id', 'Text', 'Username'])"
   ]
  },
  {
   "cell_type": "markdown",
   "metadata": {},
   "source": [
    "### 특정 기간 내에 n개의 트윗을 크롤링하고 싶은 경우"
   ]
  },
  {
   "cell_type": "code",
   "execution_count": 18,
   "metadata": {},
   "outputs": [],
   "source": [
    "tweets_list1 = []\n",
    "tweets_list2 = []\n",
    "tweets_list3 = []\n",
    "tweets_list4 = []\n",
    "tweets_list = [tweets_list1, tweets_list2, tweets_list3, tweets_list4]\n",
    "\n",
    "for s in range(len(since_save)):\n",
    "    \n",
    "    # Creating list to append tweet data \n",
    "    #tweets_list1 = []\n",
    "    # Using TwitterSearchScraper to scrape data and append tweets to list\n",
    "    for i,tweet in enumerate(sntwitter.TwitterSearchScraper('ㅇㅅㄹ since:'+since_save[s]+' until:'+until_save[s]).get_items()): #declare a username \n",
    "        \n",
    "        if i>10000: #number of tweets you want to scrape\n",
    "            break\n",
    "        #tweets_list[s].append([tweet.date, tweet.content, tweet.user.username])\n",
    "        tweets_list[s].append([tweet.date, tweet.id, tweet.content, tweet.user.username]) #declare the attributes to be returned\n",
    "    \n",
    "    # Creating a dataframe from the tweets list above \n",
    "#tweets_df2_1 = pd.DataFrame(tweets_list1, columns=['Datetime', 'Tweet Id', 'Text', 'Username'])"
   ]
  },
  {
   "cell_type": "markdown",
   "metadata": {},
   "source": [
    "tweets_df1 = pd.DataFrame(tweets_list1, columns=['Datetime', 'Text', 'Username'])\n",
    "tweets_df2 = pd.DataFrame(tweets_list2, columns=['Datetime', 'Text', 'Username'])\n",
    "tweets_df3 = pd.DataFrame(tweets_list3, columns=['Datetime', 'Text', 'Username'])\n",
    "tweets_df4 = pd.DataFrame(tweets_list4, columns=['Datetime', 'Text', 'Username'])\n",
    "tweets_df = [tweets_df1, tweets_df2, tweets_df3, tweets_df4]"
   ]
  },
  {
   "cell_type": "code",
   "execution_count": 19,
   "metadata": {},
   "outputs": [],
   "source": [
    "# DataFrame으로 만들기\n",
    "tweets_df1 = pd.DataFrame(tweets_list1, columns=['Datetime', 'Tweet Id', 'Text', 'Username'])\n",
    "tweets_df2 = pd.DataFrame(tweets_list2, columns=['Datetime', 'Tweet Id', 'Text', 'Username'])\n",
    "tweets_df3 = pd.DataFrame(tweets_list3, columns=['Datetime', 'Tweet Id', 'Text', 'Username'])\n",
    "tweets_df4 = pd.DataFrame(tweets_list4, columns=['Datetime', 'Tweet Id', 'Text', 'Username'])\n",
    "tweets_dfs = [tweets_df1, tweets_df2, tweets_df3, tweets_df4]"
   ]
  },
  {
   "cell_type": "code",
   "execution_count": 20,
   "metadata": {},
   "outputs": [
    {
     "data": {
      "text/html": [
       "<div>\n",
       "<style scoped>\n",
       "    .dataframe tbody tr th:only-of-type {\n",
       "        vertical-align: middle;\n",
       "    }\n",
       "\n",
       "    .dataframe tbody tr th {\n",
       "        vertical-align: top;\n",
       "    }\n",
       "\n",
       "    .dataframe thead th {\n",
       "        text-align: right;\n",
       "    }\n",
       "</style>\n",
       "<table border=\"1\" class=\"dataframe\">\n",
       "  <thead>\n",
       "    <tr style=\"text-align: right;\">\n",
       "      <th></th>\n",
       "      <th>Datetime</th>\n",
       "      <th>Tweet Id</th>\n",
       "      <th>Text</th>\n",
       "      <th>Username</th>\n",
       "    </tr>\n",
       "  </thead>\n",
       "  <tbody>\n",
       "    <tr>\n",
       "      <th>0</th>\n",
       "      <td>2022-03-08 23:14:38+00:00</td>\n",
       "      <td>1501335614418939910</td>\n",
       "      <td>비나이다비나이다\\n내일 ㅇㅅㄹ이 대통령이 아닌 세상에 계속 살게 해주세요</td>\n",
       "      <td>Swayingflower</td>\n",
       "    </tr>\n",
       "    <tr>\n",
       "      <th>1</th>\n",
       "      <td>2022-03-08 18:02:47+00:00</td>\n",
       "      <td>1501257134343790596</td>\n",
       "      <td>여러분.. . 위임 잘 합시다. #난_죽어도_ㅇㅅㄹ_이_대통령되는_꼴은_못보겠다 h...</td>\n",
       "      <td>Draco1466</td>\n",
       "    </tr>\n",
       "    <tr>\n",
       "      <th>2</th>\n",
       "      <td>2022-03-08 16:49:19+00:00</td>\n",
       "      <td>1501238644232785921</td>\n",
       "      <td>제발. .. ..ㅇㅅㄹ 내일쯤 지구상에서 없었으면 좋겠다...</td>\n",
       "      <td>miyahe___l</td>\n",
       "    </tr>\n",
       "    <tr>\n",
       "      <th>3</th>\n",
       "      <td>2022-03-08 16:24:04+00:00</td>\n",
       "      <td>1501232290055143424</td>\n",
       "      <td>솔직히 민주당 저번 대선이랑 총선에서 그렇게 밀어주고 믿어줬는데 많이 실망스러웠던게...</td>\n",
       "      <td>DltmflJJ</td>\n",
       "    </tr>\n",
       "    <tr>\n",
       "      <th>4</th>\n",
       "      <td>2022-03-08 16:06:27+00:00</td>\n",
       "      <td>1501227856407707649</td>\n",
       "      <td>감정과 원한으로 급발진하지말자/는 문통지지에서 반잼하다 이럴꺼면 ㅇㅅㄹ하는 이들을 ...</td>\n",
       "      <td>beautiful_panda</td>\n",
       "    </tr>\n",
       "    <tr>\n",
       "      <th>...</th>\n",
       "      <td>...</td>\n",
       "      <td>...</td>\n",
       "      <td>...</td>\n",
       "      <td>...</td>\n",
       "    </tr>\n",
       "    <tr>\n",
       "      <th>132</th>\n",
       "      <td>2022-03-02 10:55:27+00:00</td>\n",
       "      <td>1498975263212077056</td>\n",
       "      <td>아니 어제 일차비엘 어쩌구도 그렇고\\nㅇㅅㄹ 되는 순간 님들 덕질까지 간섭받고 검열...</td>\n",
       "      <td>FFXIV_CedarTP</td>\n",
       "    </tr>\n",
       "    <tr>\n",
       "      <th>133</th>\n",
       "      <td>2022-03-02 09:12:15+00:00</td>\n",
       "      <td>1498949293000249346</td>\n",
       "      <td>제발 좀 사라져라 꺅 ㅇㅈㅅ과 ㅇㅅㄹ 사라진세상 생각만 해도 짜릿하당!</td>\n",
       "      <td>jeriji</td>\n",
       "    </tr>\n",
       "    <tr>\n",
       "      <th>134</th>\n",
       "      <td>2022-03-02 06:03:22+00:00</td>\n",
       "      <td>1498901758063816704</td>\n",
       "      <td>미치겠다 지금 작업실인데 앞에서 ㅇㅅㄹ을 찍어주세용~ 하고 유세중엠 키절</td>\n",
       "      <td>JW9110N</td>\n",
       "    </tr>\n",
       "    <tr>\n",
       "      <th>135</th>\n",
       "      <td>2022-03-02 02:18:50+00:00</td>\n",
       "      <td>1498845254883024903</td>\n",
       "      <td>ㅠ 좀만 일찍 각성하지 그러셨어요............ 표 갈려서 이제 어케 하지도...</td>\n",
       "      <td>2O191122</td>\n",
       "    </tr>\n",
       "    <tr>\n",
       "      <th>136</th>\n",
       "      <td>2022-03-02 01:40:07+00:00</td>\n",
       "      <td>1498835509161840644</td>\n",
       "      <td>추천 KPC상\\nㅇㅅㄹ https://t.co/wgSFxt72Sm</td>\n",
       "      <td>Ch_hyun_</td>\n",
       "    </tr>\n",
       "  </tbody>\n",
       "</table>\n",
       "<p>137 rows × 4 columns</p>\n",
       "</div>"
      ],
      "text/plain": [
       "                     Datetime             Tweet Id  \\\n",
       "0   2022-03-08 23:14:38+00:00  1501335614418939910   \n",
       "1   2022-03-08 18:02:47+00:00  1501257134343790596   \n",
       "2   2022-03-08 16:49:19+00:00  1501238644232785921   \n",
       "3   2022-03-08 16:24:04+00:00  1501232290055143424   \n",
       "4   2022-03-08 16:06:27+00:00  1501227856407707649   \n",
       "..                        ...                  ...   \n",
       "132 2022-03-02 10:55:27+00:00  1498975263212077056   \n",
       "133 2022-03-02 09:12:15+00:00  1498949293000249346   \n",
       "134 2022-03-02 06:03:22+00:00  1498901758063816704   \n",
       "135 2022-03-02 02:18:50+00:00  1498845254883024903   \n",
       "136 2022-03-02 01:40:07+00:00  1498835509161840644   \n",
       "\n",
       "                                                  Text         Username  \n",
       "0             비나이다비나이다\\n내일 ㅇㅅㄹ이 대통령이 아닌 세상에 계속 살게 해주세요    Swayingflower  \n",
       "1    여러분.. . 위임 잘 합시다. #난_죽어도_ㅇㅅㄹ_이_대통령되는_꼴은_못보겠다 h...        Draco1466  \n",
       "2                   제발. .. ..ㅇㅅㄹ 내일쯤 지구상에서 없었으면 좋겠다...       miyahe___l  \n",
       "3    솔직히 민주당 저번 대선이랑 총선에서 그렇게 밀어주고 믿어줬는데 많이 실망스러웠던게...         DltmflJJ  \n",
       "4    감정과 원한으로 급발진하지말자/는 문통지지에서 반잼하다 이럴꺼면 ㅇㅅㄹ하는 이들을 ...  beautiful_panda  \n",
       "..                                                 ...              ...  \n",
       "132  아니 어제 일차비엘 어쩌구도 그렇고\\nㅇㅅㄹ 되는 순간 님들 덕질까지 간섭받고 검열...    FFXIV_CedarTP  \n",
       "133            제발 좀 사라져라 꺅 ㅇㅈㅅ과 ㅇㅅㄹ 사라진세상 생각만 해도 짜릿하당!           jeriji  \n",
       "134           미치겠다 지금 작업실인데 앞에서 ㅇㅅㄹ을 찍어주세용~ 하고 유세중엠 키절          JW9110N  \n",
       "135  ㅠ 좀만 일찍 각성하지 그러셨어요............ 표 갈려서 이제 어케 하지도...         2O191122  \n",
       "136               추천 KPC상\\nㅇㅅㄹ https://t.co/wgSFxt72Sm         Ch_hyun_  \n",
       "\n",
       "[137 rows x 4 columns]"
      ]
     },
     "execution_count": 20,
     "metadata": {},
     "output_type": "execute_result"
    }
   ],
   "source": [
    "tweets_df4"
   ]
  },
  {
   "cell_type": "code",
   "execution_count": 21,
   "metadata": {},
   "outputs": [],
   "source": [
    "# 날짜 정규표현식 적용\n",
    "for i in tweets_dfs:\n",
    "    i['Datetime'] = pd.to_datetime(i['Datetime']).apply(lambda x: x.date())\n",
    "    i['Datetime'] = i['Datetime'].apply(lambda x : x.strftime('%Y-%m-%d'))"
   ]
  },
  {
   "cell_type": "code",
   "execution_count": 22,
   "metadata": {},
   "outputs": [],
   "source": [
    "for s in range(len(since_save)):\n",
    "    #tweets_df2_[s] = pd.DataFrame(tweets_list[s], columns=['Datetime', 'Tweet Id', 'Text', 'Username'])\n",
    "    tweets_dfs[s].to_csv('./ㅇㅅㄹ_'+since_save[s]+'~'+until_save[s]+'.csv', encoding='utf-8-sig',sep=',', index=False)\n",
    "    "
   ]
  },
  {
   "cell_type": "markdown",
   "metadata": {},
   "source": [
    "# 윤석열\n",
    "for s in range(len(since)):\n",
    "    #tweets_df2_[s] = pd.DataFrame(tweets_list[s], columns=['Datetime', 'Tweet Id', 'Text', 'Username'])\n",
    "    tweets_dfs[s].to_csv('./윤석열_'+since_save[s]+'~'+until_save[s]+'.csv', encoding='utf-8-sig',sep=',', index=False)\n",
    "    "
   ]
  },
  {
   "cell_type": "code",
   "execution_count": null,
   "metadata": {},
   "outputs": [],
   "source": []
  }
 ],
 "metadata": {
  "interpreter": {
   "hash": "8bccecfa0e657f1c017a2d70ec91b42e506bacb9a0f2d7af9e6e536c95eab86c"
  },
  "kernelspec": {
   "display_name": "Python 3.8.12 ('torch38')",
   "language": "python",
   "name": "python3"
  },
  "language_info": {
   "codemirror_mode": {
    "name": "ipython",
    "version": 3
   },
   "file_extension": ".py",
   "mimetype": "text/x-python",
   "name": "python",
   "nbconvert_exporter": "python",
   "pygments_lexer": "ipython3",
   "version": "3.8.12"
  },
  "orig_nbformat": 4
 },
 "nbformat": 4,
 "nbformat_minor": 2
}
